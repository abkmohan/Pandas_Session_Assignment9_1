{
 "cells": [
  {
   "cell_type": "code",
   "execution_count": 2,
   "metadata": {},
   "outputs": [
    {
     "name": "stdout",
     "output_type": "stream",
     "text": [
      "   X  Y\n",
      "0  7  0\n",
      "1  2  1\n",
      "2  0  0\n",
      "3  3  1\n",
      "4  4  2\n",
      "5  2  3\n",
      "6  5  4\n",
      "7  0  0\n",
      "8  3  1\n",
      "9  4  2\n"
     ]
    }
   ],
   "source": [
    "#Course: Data Science Masters\n",
    "#Title: Python - Assignment 9.1            \n",
    "#Tool: Jupyter notebook \n",
    "#Author: Krishna A\n",
    "#Date: 09-03-2018 (DD/MM/YYYY)\n",
    "\n",
    "#Problem Statement 1 : How-to-count-distance-to-the-previous-zero\n",
    "\n",
    "import pandas as pd\n",
    "import numpy as np\n",
    "\n",
    "#Assumiing Index is starting from zero in Python\n",
    "def countDistancePrevZero(sList):\n",
    "    newSeries = []\n",
    "    iCtr=1;\n",
    "    for i, x in enumerate(sList, 1):        \n",
    "        if x==0:\n",
    "            iCtr=i\n",
    "        newSeries.append((i-iCtr))\n",
    "    return newSeries\n",
    "\n",
    "\n",
    "df = pd.DataFrame({'X':[7, 2, 0, 3, 4, 2, 5, 0, 3, 4]})\n",
    "df['Y']= countDistancePrevZero(df.X)\n",
    "\n",
    "print(df) # Y column contains the distance from 0 or from the first number in the series - index start is taken as zero"
   ]
  },
  {
   "cell_type": "code",
   "execution_count": 57,
   "metadata": {},
   "outputs": [
    {
     "name": "stdout",
     "output_type": "stream",
     "text": [
      "2015-01-01    280\n",
      "2015-01-02    168\n",
      "2015-01-05    231\n",
      "2015-01-06    186\n",
      "2015-01-07    246\n",
      "2015-01-08     12\n",
      "2015-01-09    293\n",
      "2015-01-12     89\n",
      "2015-01-13     65\n",
      "2015-01-14    139\n",
      "2015-01-15    243\n",
      "2015-01-16    219\n",
      "2015-01-19    168\n",
      "2015-01-20     12\n",
      "2015-01-21    168\n",
      "2015-01-22    179\n",
      "2015-01-23    208\n",
      "2015-01-26    209\n",
      "2015-01-27    289\n",
      "2015-01-28    231\n",
      "2015-01-29    212\n",
      "2015-01-30      1\n",
      "2015-02-02    225\n",
      "2015-02-03     60\n",
      "2015-02-04    231\n",
      "2015-02-05    182\n",
      "2015-02-06    177\n",
      "2015-02-09    119\n",
      "2015-02-10     53\n",
      "2015-02-11    206\n",
      "             ... \n",
      "2015-11-20    259\n",
      "2015-11-23    120\n",
      "2015-11-24    113\n",
      "2015-11-25     97\n",
      "2015-11-26     24\n",
      "2015-11-27     79\n",
      "2015-11-30    271\n",
      "2015-12-01    253\n",
      "2015-12-02    272\n",
      "2015-12-03     10\n",
      "2015-12-04     16\n",
      "2015-12-07    177\n",
      "2015-12-08    280\n",
      "2015-12-09      2\n",
      "2015-12-10     14\n",
      "2015-12-11    293\n",
      "2015-12-14      6\n",
      "2015-12-15    242\n",
      "2015-12-16    299\n",
      "2015-12-17    182\n",
      "2015-12-18    146\n",
      "2015-12-21    280\n",
      "2015-12-22    170\n",
      "2015-12-23    107\n",
      "2015-12-24     22\n",
      "2015-12-25    284\n",
      "2015-12-28    289\n",
      "2015-12-29    228\n",
      "2015-12-30    224\n",
      "2015-12-31    216\n",
      "Freq: B, Length: 261, dtype: int32\n"
     ]
    }
   ],
   "source": [
    "#Problem Statement 2 : Create a DatetimeIndex that contains each business day of 2015 and use it to index a\n",
    "#                      Series of random numbers.\n",
    "\n",
    "rDateTimeIndex = pd.bdate_range('2015-01-01', '2015-12-31', freq='B')\n",
    "sRSeries = pd.Series(np.random.randint(0, 300, len(rDateTimeIndex)), index=rDateTimeIndex)\n",
    "print(sRSeries)\n"
   ]
  },
  {
   "cell_type": "code",
   "execution_count": 58,
   "metadata": {},
   "outputs": [
    {
     "name": "stdout",
     "output_type": "stream",
     "text": [
      "The sum of Wednesday values in given series: 9142\n"
     ]
    }
   ],
   "source": [
    "#Problem Statement 3 : Find the sum of the values in s for every Wednesday\n",
    "\n",
    "iWedSum = sRSeries[sRSeries.index.weekday==2].sum()\n",
    "print(\"The sum of Wednesday values in given series:\", iWedSum)"
   ]
  },
  {
   "cell_type": "code",
   "execution_count": 59,
   "metadata": {},
   "outputs": [
    {
     "name": "stdout",
     "output_type": "stream",
     "text": [
      "Average For each calendar month in given series:\n",
      " 2015-01-31    174.909091\n",
      "2015-02-28    166.300000\n",
      "2015-03-31    156.318182\n",
      "2015-04-30    149.136364\n",
      "2015-05-31    179.857143\n",
      "2015-06-30    154.954545\n",
      "2015-07-31    166.739130\n",
      "2015-08-31    144.857143\n",
      "2015-09-30    158.909091\n",
      "2015-10-31    165.727273\n",
      "2015-11-30    166.095238\n",
      "2015-12-31    174.434783\n",
      "Freq: M, dtype: float64 \n",
      "\n"
     ]
    }
   ],
   "source": [
    "#Problem Statement 4 : Average For each calendar month\n",
    "iAvgPerMonth = sRSeries.resample('M').mean()\n",
    "print(\"Average For each calendar month in given series:\\n\",iAvgPerMonth,'\\n')"
   ]
  },
  {
   "cell_type": "code",
   "execution_count": 60,
   "metadata": {},
   "outputs": [
    {
     "name": "stdout",
     "output_type": "stream",
     "text": [
      "<bound method deprecate.<locals>.wrapper of 2015-04-30    162.611765\n",
      "2015-08-31    161.241379\n",
      "2015-12-31    165.147727\n",
      "2016-04-30    216.000000\n",
      "Freq: 4M, dtype: float64> \n",
      "\n"
     ]
    },
    {
     "name": "stderr",
     "output_type": "stream",
     "text": [
      "C:\\anaconda3\\lib\\site-packages\\ipykernel_launcher.py:3: FutureWarning: \n",
      ".resample() is now a deferred operation\n",
      "You called argmax(...) on this deferred object which materialized it into a series\n",
      "by implicitly taking the mean.  Use .resample(...).mean() instead\n",
      "  This is separate from the ipykernel package so we can avoid doing imports until\n"
     ]
    }
   ],
   "source": [
    "#Problem Statement 5 : For each group of four consecutive calendar months in s, find the date on which the\n",
    "#                      highest value occurred.\n",
    "max_idx = sRSeries.resample('4M', closed='left').argmax\n",
    "print(max_idx, \"\\n\")\n"
   ]
  },
  {
   "cell_type": "code",
   "execution_count": null,
   "metadata": {
    "collapsed": true
   },
   "outputs": [],
   "source": []
  }
 ],
 "metadata": {
  "kernelspec": {
   "display_name": "Python 3",
   "language": "python",
   "name": "python3"
  },
  "language_info": {
   "codemirror_mode": {
    "name": "ipython",
    "version": 3
   },
   "file_extension": ".py",
   "mimetype": "text/x-python",
   "name": "python",
   "nbconvert_exporter": "python",
   "pygments_lexer": "ipython3",
   "version": "3.6.3"
  }
 },
 "nbformat": 4,
 "nbformat_minor": 2
}
